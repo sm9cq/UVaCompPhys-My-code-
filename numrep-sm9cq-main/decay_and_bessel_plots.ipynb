{
 "cells": [
  {
   "cell_type": "markdown",
   "id": "589e77fc",
   "metadata": {
    "tags": []
   },
   "source": [
    "# Numerical representation\n",
    "\n",
    "Below are several examples for making plots and some exercises to practice making your own.\n",
    "\n",
    "The commands below preceded with \"!\" can be typed on the command line of your terminal.\n",
    "\n",
    "## 1 plotting examples\n",
    "\n",
    "Below we will build two programs, one to simulate radioactice decay and another to calculate the values of several Bessel functions using two different recursion relations as described in the assigned reading from Landau."
   ]
  },
  {
   "cell_type": "code",
   "execution_count": 1,
   "id": "6578edd5",
   "metadata": {},
   "outputs": [
    {
     "name": "stdout",
     "output_type": "stream",
     "text": [
      "make: Nothing to be done for `all'.\n"
     ]
    }
   ],
   "source": [
    "# to build your code type the 'make' command\n",
    "! make  "
   ]
  },
  {
   "cell_type": "markdown",
   "id": "dca1d8d0",
   "metadata": {},
   "source": [
    "### 1.1 Run the radioactive dacay simulation, generate a plot of the result\n",
    "Below we illustrate the use of both gnuplot and the python interface to ROOT to make our plots "
   ]
  },
  {
   "cell_type": "code",
   "execution_count": 2,
   "id": "c4ee04c0",
   "metadata": {},
   "outputs": [
    {
     "name": "stdout",
     "output_type": "stream",
     "text": [
      "data stored in decay01.dat\n"
     ]
    }
   ],
   "source": [
    "# see decay.cpp for the source code\n",
    "!decay"
   ]
  },
  {
   "cell_type": "markdown",
   "id": "90da4be7",
   "metadata": {},
   "source": [
    "**gnuplot example**"
   ]
  },
  {
   "cell_type": "code",
   "execution_count": 3,
   "id": "aa81b77a",
   "metadata": {},
   "outputs": [
    {
     "name": "stdout",
     "output_type": "stream",
     "text": [
      "^C\n",
      "# simple plot example for radio decay data\n",
      "set title \"Radioisotope decay plot\"\n",
      "set xlabel \"time [seconds]\"\n",
      "set ylabel \"fraction of atoms remaining\"\n",
      "\n",
      "plot \"decay01.dat\" pt 4,0.99**x lw 3 lc 'green' title \"Binomial Model\",\\\n",
      "exp(-0.01*x) ti \"Poisson Model\" lc 'red'\n",
      "\n",
      "set term png\n",
      "set output \"decay.png\"\n",
      "replot\n",
      "\n",
      "reset\n",
      "set term pop\n"
     ]
    }
   ],
   "source": [
    "!gnuplot decay.plt &> /dev/null\n",
    "!cat decay.plt  # here is the text of our plot file"
   ]
  },
  {
   "cell_type": "code",
   "execution_count": null,
   "id": "1e5061b6",
   "metadata": {},
   "outputs": [],
   "source": [
    "# display the plot in our notebook\n",
    "from IPython.display import Image\n",
    "Image(filename='decay.png') "
   ]
  },
  {
   "cell_type": "markdown",
   "id": "51fcbe3d",
   "metadata": {},
   "source": [
    "**(py)ROOT example**\n",
    "This example introduces the use of the following classes:\n",
    "* [TGraph](https://root.cern.ch/doc/master/classTGraph.html) : a 1D graph\n",
    "* [TF1](https://root.cern.ch/doc/master/classTF1.html) : a 1D function\n",
    "* [TCanvas](https://root.cern.ch/doc/master/classTCanvas.html) : the TCanvas is the drawing board for all ROOT plots\n",
    "* [TLegend](https://root.cern.ch/doc/master/classTLegend.html) : Generate plot legends in ROOT plots\n",
    "\n",
    "You can modify some of the parameters in the cells below to see the effects on your plot."
   ]
  },
  {
   "cell_type": "code",
   "execution_count": 1,
   "id": "058e753e",
   "metadata": {},
   "outputs": [
    {
     "name": "stdout",
     "output_type": "stream",
     "text": [
      "Welcome to JupyROOT 6.24/02\n"
     ]
    }
   ],
   "source": [
    "import ROOT as r"
   ]
  },
  {
   "cell_type": "code",
   "execution_count": 2,
   "id": "9ab2d352",
   "metadata": {},
   "outputs": [],
   "source": [
    "gDecay=r.TGraph(\"decay01.dat\")\n",
    "gDecay.SetTitle(\"Radioisotope decay plot;time [seconds];fraction of atoms remaining\")\n",
    "tfBin=r.TF1(\"tfbin\",\"pow(0.99,x)\",0,500)      # binomial model\n",
    "tfBin.SetLineColor(r.kGreen)\n",
    "tfBin.SetLineWidth(3)\n",
    "tfPoisson=r.TF1(\"tfbin\",\"exp(-0.01*x)\",0,500) # Poisson model\n",
    "tfPoisson.SetLineStyle(2)\n",
    "tfPoisson.SetLineColor(r.kRed)"
   ]
  },
  {
   "cell_type": "code",
   "execution_count": 3,
   "id": "392016c4",
   "metadata": {},
   "outputs": [
    {
     "name": "stderr",
     "output_type": "stream",
     "text": [
      "Info in <TCanvas::Print>: pdf file decay.pdf has been created\n"
     ]
    },
    {
     "data": {
      "image/png": "[encoded data removed]",
      "text/plain": [
       "<IPython.core.display.Image object>"
      ]
     },
     "metadata": {},
     "output_type": "display_data"
    }
   ],
   "source": [
    "tc=r.TCanvas()\n",
    "gDecay.Draw(\"AL*\")    # see TGraph docs: plot (A)xes, connect points wil (Line), mark points with (*)\n",
    "tfBin.Draw(\"same\")\n",
    "tfPoisson.Draw(\"same\")\n",
    "tl=r.TLegend(.65,.65,.9,.9)          # (xmin, ymin, xmax, ymax) for legend box\n",
    "tl.AddEntry(gDecay,\"MC model\")       \n",
    "tl.AddEntry(tfBin,\"Binomial model\")\n",
    "tl.AddEntry(tfPoisson,\"Poisson model\")\n",
    "tl.Draw()\n",
    "tc.Draw()\n",
    "tc.Print(\"decay.pdf\")  # a canvas can be \"Prined to many graphics formats\""
   ]
  },
  {
   "cell_type": "markdown",
   "id": "4fc8cc57",
   "metadata": {},
   "source": [
    "### 1.2 Run the bessel function calculations \n",
    "This section follows the description of the Bessel function exercise in Landau"
   ]
  },
  {
   "cell_type": "code",
   "execution_count": 4,
   "id": "7eb07d27",
   "metadata": {},
   "outputs": [
    {
     "name": "stdout",
     "output_type": "stream",
     "text": [
      "./bessel 0; mv -v bessel.dat bessel0.dat\n",
      "Calculating J0(x) for 0.250000 <= x < 40.000000\n",
      "data stored in bessel.dat.\n",
      "‘bessel.dat’ -> ‘bessel0.dat’\n",
      "./bessel 2; mv -v bessel.dat bessel2.dat\n",
      "Calculating J2(x) for 0.250000 <= x < 40.000000\n",
      "data stored in bessel.dat.\n",
      "‘bessel.dat’ -> ‘bessel2.dat’\n",
      "./bessel 5; mv -v bessel.dat bessel5.dat\n",
      "Calculating J5(x) for 0.250000 <= x < 40.000000\n",
      "data stored in bessel.dat.\n",
      "‘bessel.dat’ -> ‘bessel5.dat’\n"
     ]
    }
   ],
   "source": [
    "!make runbessel"
   ]
  },
  {
   "cell_type": "markdown",
   "id": "6c4b3b3d",
   "metadata": {},
   "source": [
    "----\n",
    "\n",
    "**Project**\n",
    "\n",
    "* Plot the value of the bessel function J0 in the range calculated by the program for both “upward” and “downward” calculations\n",
    "* Repeat for J2 and J5 (we'll discusses the obvious issues you discover in the next class)\n",
    "* Make a (nice looking!) plot displaying the 6 data distributions [ (J0, J2, J5) for up and down calculations ] on one plot\n",
    "\n",
    "You can use any plotting package you like, as long as it is supported in our phys56xx environment\n",
    "----"
   ]
  },
  {
   "cell_type": "code",
   "execution_count": 23,
   "id": "ab93add2",
   "metadata": {},
   "outputs": [
    {
     "data": {
      "image/png": "[encoded data removed]",
      "text/plain": [
       "<IPython.core.display.Image object>"
      ]
     },
     "metadata": {},
     "output_type": "display_data"
    }
   ],
   "source": [
    "# starter example \n",
    "tg_b0dn=r.TGraph(\"bessel0.dat\")\n",
    "tg_b0dn.SetLineColor(r.kRed)\n",
    "tg_b0dn.SetTitle(\"Bessel function calculations;x;j_{n}(x)\")\n",
    "# see https://root.cern.ch/doc/master/classTGraph.html#ab902beb9e0463b225f0f384b6826a434\n",
    "tg_b2up=r.TGraph(\"bessel2.dat\",\"%lg %*lg %lg\") \n",
    "tg_b2up.SetLineColor(r.kBlue)\n",
    "tg_b2up.SetLineStyle(3)\n",
    "\n",
    "tg_b5up=r.TGraph(\"bessel5.dat\",\"%lg %*lg %lg\") \n",
    "tg_b5up.SetLineColor(r.kGreen)\n",
    "tg_b5up.SetLineStyle(3)\n",
    "\n",
    "\n",
    "tg_b0dn.Draw(\"AC\")\n",
    "tg_b2up.Draw(\"C\")\n",
    "tg_b5up.Draw(\"C\")\n",
    "tc.Draw()\n"
   ]
  },
  {
   "cell_type": "markdown",
   "id": "a65eb954",
   "metadata": {},
   "source": [
    "    ****************\n",
    "    YOUR WORK GOES HERE\n",
    "    ****************\n",
    "  "
   ]
  },
  {
   "cell_type": "markdown",
   "id": "fc954f81",
   "metadata": {},
   "source": [
    "## final plot for bessel data goes here"
   ]
  },
  {
   "cell_type": "code",
   "execution_count": 24,
   "id": "47597a3f",
   "metadata": {},
   "outputs": [],
   "source": [
    "# place your final plot here"
   ]
  },
  {
   "cell_type": "code",
   "execution_count": 25,
   "id": "f2d1e0f6",
   "metadata": {},
   "outputs": [
    {
     "data": {
      "image/png": "[encoded data removed]",
      "text/plain": [
       "<IPython.core.display.Image object>"
      ]
     },
     "metadata": {},
     "output_type": "display_data"
    }
   ],
   "source": [
    "# starter example \n",
    "tg_b0dn=r.TGraph(\"bessel0.dat\",\"%lg %lg %*lg\")\n",
    "tg_b0dn.SetLineColor(r.kRed)\n",
    "\n",
    "tg_b0up=r.TGraph(\"bessel0.dat\",\"%lg %*lg %lg\")\n",
    "tg_b0up.SetLineColor(r.kRed)\n",
    "tg_b0up.SetLineStyle(3)\n",
    "tg_b0dn.SetTitle(\"Bessel function calculations;x;j_{n}(x)\")\n",
    "# see https://root.cern.ch/doc/master/classTGraph.html#ab902beb9e0463b225f0f384b6826a434\n",
    "tg_b2up=r.TGraph(\"bessel2.dat\",\"%lg %*lg %lg\") \n",
    "tg_b2up.SetLineColor(r.kBlue)\n",
    "#tg_b2up.SetLineStyle(3)\n",
    "\n",
    "tg_b2dn=r.TGraph(\"bessel2.dat\",\"%lg %lg %*lg\") \n",
    "tg_b2dn.SetLineColor(r.kBlue)\n",
    "tg_b2dn.SetLineStyle(3)\n",
    "\n",
    "tg_b5up=r.TGraph(\"bessel5.dat\",\"%lg %*lg %lg\") \n",
    "tg_b5up.SetLineColor(r.kGreen)\n",
    "#tg_b5up.SetLineStyle(3)\n",
    "\n",
    "tg_b5dn=r.TGraph(\"bessel5.dat\",\"%lg %lg %*lg\") \n",
    "tg_b5dn.SetLineColor(r.kGreen)\n",
    "tg_b5dn.SetLineStyle(3)\n",
    "\n",
    "\n",
    "tg_b0dn.Draw(\"AC\")\n",
    "tg_b0up.Draw(\"C\")\n",
    "tg_b2up.Draw(\"C\")\n",
    "tg_b2dn.Draw(\"C\")\n",
    "tg_b5up.Draw(\"C\")\n",
    "tg_b5dn.Draw(\"C\")\n",
    "\n",
    "leg = r.TLegend(.73,.32,.97,.53)\n",
    "leg.SetBorderSize(0)\n",
    "leg.SetFillColor(0)\n",
    "leg.SetFillStyle(0)\n",
    "leg.SetTextFont(42)\n",
    "leg.SetTextSize(0.035)\n",
    "leg.AddEntry(tg_b0dn,\"J_{0,dn}\",\"L\")\n",
    "leg.AddEntry(tg_b0up,\"J_{0,up}\",\"L\")\n",
    "leg.AddEntry(tg_b2up,\"J_{2,up}\",\"L\")\n",
    "leg.AddEntry(tg_b2dn,\"J_{2,dn}\",\"L\")\n",
    "leg.AddEntry(tg_b5up,\"J_{5,up}\",\"L\")\n",
    "leg.AddEntry(tg_b5dn,\"J_{5,dn}\",\"L\")\n",
    "#leg.AddEntry(tg_b2up,\"2X_{n,eq}\",\"L\")\n",
    "leg.Draw()\n",
    "\n",
    "tc.Draw()"
   ]
  },
  {
   "cell_type": "code",
   "execution_count": null,
   "id": "934c9ba9",
   "metadata": {},
   "outputs": [],
   "source": []
  }
 ],
 "metadata": {
  "kernelspec": {
   "display_name": "PPDxP Env",
   "language": "python",
   "name": "ppdwp"
  },
  "language_info": {
   "codemirror_mode": {
    "name": "ipython",
    "version": 3
   },
   "file_extension": ".py",
   "mimetype": "text/x-python",
   "name": "python",
   "nbconvert_exporter": "python",
   "pygments_lexer": "ipython3",
   "version": "3.9.7"
  }
 },
 "nbformat": 4,
 "nbformat_minor": 5
}
