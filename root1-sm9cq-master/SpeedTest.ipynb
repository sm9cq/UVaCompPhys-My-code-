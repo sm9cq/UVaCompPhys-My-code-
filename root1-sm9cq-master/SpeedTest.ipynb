{
 "cells": [
  {
   "cell_type": "markdown",
   "metadata": {},
   "source": [
    "External libraries in Python\n",
    "====\n",
    "\n",
    "Numpy is a Python module that interfaces to fast precompiled code.  Python is fast for development, but if you write Python like C/C++ you may be very disappointed in the performace, expecially for large loops."
   ]
  },
  {
   "cell_type": "code",
   "execution_count": 1,
   "metadata": {},
   "outputs": [],
   "source": [
    "import numpy as np"
   ]
  },
  {
   "cell_type": "code",
   "execution_count": 2,
   "metadata": {},
   "outputs": [],
   "source": [
    "n=100000"
   ]
  },
  {
   "cell_type": "markdown",
   "metadata": {},
   "source": [
    "The *magic* **%timeit (%%timeit)** returns the execution time for one line (cell) of code, see <br>\n",
    "https://ipython.readthedocs.io/en/stable/interactive/magics.html for a discussion of the parameters used\n",
    "\n",
    "Below we create a numpy array and iterate over this array by index to perform some basic operations."
   ]
  },
  {
   "cell_type": "code",
   "execution_count": 3,
   "metadata": {},
   "outputs": [
    {
     "name": "stdout",
     "output_type": "stream",
     "text": [
      "140 ms ± 0 ns per loop (mean ± std. dev. of 1 run, 1 loop each)\n"
     ]
    }
   ],
   "source": [
    "%%timeit -r 1 -n 1\n",
    "v=np.random.random(n)  # create array w/ random umbers in [0,1]\n",
    "for i in range(n):\n",
    "    v[i]=np.sqrt(v[i])"
   ]
  },
  {
   "cell_type": "markdown",
   "metadata": {},
   "source": [
    "Next, we perform the same calculation using only calls to numpy.  The loops are offloaded to fast code in the numpy liraries."
   ]
  },
  {
   "cell_type": "code",
   "execution_count": 4,
   "metadata": {},
   "outputs": [
    {
     "name": "stdout",
     "output_type": "stream",
     "text": [
      "1.64 ms ± 0 ns per loop (mean ± std. dev. of 1 run, 1 loop each)\n"
     ]
    }
   ],
   "source": [
    "%%timeit -r 1 -n 1\n",
    "v=np.random.random(n) \n",
    "v=np.sqrt(v)"
   ]
  },
  {
   "cell_type": "markdown",
   "metadata": {},
   "source": [
    "Compare python to C++ function using ROOT to compile the code and create our interface\n",
    "----"
   ]
  },
  {
   "cell_type": "code",
   "execution_count": 6,
   "metadata": {},
   "outputs": [
    {
     "name": "stdout",
     "output_type": "stream",
     "text": [
      "Welcome to JupyROOT 6.22/00\n"
     ]
    }
   ],
   "source": [
    "import ROOT as R"
   ]
  },
  {
   "cell_type": "markdown",
   "metadata": {},
   "source": [
    "Define a python function to calculate a series with slow convergence<br>\n",
    "$ln(2) = \\frac{1}{1} - \\frac{1}{2} + \\frac{1}{3} - \\frac{1}{4} + \\frac{1}{5} - ...$"
   ]
  },
  {
   "cell_type": "code",
   "execution_count": 7,
   "metadata": {},
   "outputs": [],
   "source": [
    "# Python version of a function with a long loop\n",
    "def longcalc(ncalcs=1000*1000):\n",
    "    val=0.0\n",
    "    for i in range(1,ncalcs+1):\n",
    "        val += 1.0/i * (2.0*(i%2)-1)\n",
    "    return val"
   ]
  },
  {
   "cell_type": "code",
   "execution_count": 8,
   "metadata": {},
   "outputs": [
    {
     "name": "stdout",
     "output_type": "stream",
     "text": [
      "#include <iostream>\n",
      "\n",
      "using namespace std;\n",
      "\n",
      "// A simple function that takes a while to calculate!\n",
      "// We'll calculate the slowly converging series 1 - 1/2 + 1/3 - 1/4 + ...\n",
      "// The series converges to ln(2)\n",
      "double longcalc(unsigned long ncalcs=1000*1000){\n",
      "  double val=0.0;\n",
      "  for (unsigned long i=1; i<=ncalcs; i++){\n",
      "    val += 1.0/i * (2.0*(i%2)-1);\n",
      "  }\n",
      "  return val;\n",
      "}\n"
     ]
    }
   ],
   "source": [
    "# C/C++ version\n",
    "!cat longcalc.cpp"
   ]
  },
  {
   "cell_type": "markdown",
   "metadata": {},
   "source": [
    "Below we use a feature of ROOT which compiles our C++ function and builds a shared library. ROOT then builds the Python<-->C++ interface and loads the shared, allowing the C++ function to be called like a Python function in the ROOT namespace.  So easy!"
   ]
  },
  {
   "cell_type": "code",
   "execution_count": 9,
   "metadata": {},
   "outputs": [
    {
     "data": {
      "text/plain": [
       "0"
      ]
     },
     "execution_count": 9,
     "metadata": {},
     "output_type": "execute_result"
    }
   ],
   "source": [
    "R.gROOT.ProcessLine(\".L longcalc.cpp+\")"
   ]
  },
  {
   "cell_type": "code",
   "execution_count": 10,
   "metadata": {},
   "outputs": [
    {
     "name": "stdout",
     "output_type": "stream",
     "text": [
      "longcalc.cpp\t\t\t   longcalc_cpp.d\n",
      "longcalc_cpp_ACLiC_dict_rdict.pcm  longcalc_cpp.so\n"
     ]
    }
   ],
   "source": [
    "!ls longcalc*"
   ]
  },
  {
   "cell_type": "markdown",
   "metadata": {},
   "source": [
    "Compare results of the Python and C++ functions:"
   ]
  },
  {
   "cell_type": "code",
   "execution_count": 11,
   "metadata": {},
   "outputs": [
    {
     "name": "stdout",
     "output_type": "stream",
     "text": [
      "time for running the python function once\n",
      "117 ms ± 0 ns per loop (mean ± std. dev. of 1 run, 1 loop each)\n",
      "time for running the C++ function once\n",
      "4.29 ms ± 0 ns per loop (mean ± std. dev. of 1 run, 1 loop each)\n",
      "\n",
      "Python result 0.6931466805602525\n",
      "   C++ result 0.6931466805602525\n"
     ]
    }
   ],
   "source": [
    "print(\"time for running the python function once\")\n",
    "%timeit -r 1 -n 1 longcalc()\n",
    "print(\"time for running the C++ function once\")\n",
    "%timeit -r 1 -n 1 R.longcalc()\n",
    "print()\n",
    "print(\"Python result\",longcalc())\n",
    "print(\"   C++ result\",R.longcalc())"
   ]
  },
  {
   "cell_type": "markdown",
   "metadata": {},
   "source": [
    "The default use of **%timeit** below (no parameters given) will cause the code to be run multiple times to acquire statistics on the average runtime and standard deviation of the actial performance.  It will take a few seconds to run each test."
   ]
  },
  {
   "cell_type": "code",
   "execution_count": 12,
   "metadata": {},
   "outputs": [
    {
     "name": "stdout",
     "output_type": "stream",
     "text": [
      "time for running the python function once\n",
      "118 ms ± 2.02 ms per loop (mean ± std. dev. of 7 runs, 10 loops each)\n",
      "time for running the C++ function once\n",
      "1.36 ms ± 7.58 µs per loop (mean ± std. dev. of 7 runs, 1000 loops each)\n"
     ]
    }
   ],
   "source": [
    "print(\"time for running the python function many times\")\n",
    "%timeit longcalc()\n",
    "print(\"time for running the C++ function many times\")\n",
    "%timeit R.longcalc()"
   ]
  },
  {
   "cell_type": "markdown",
   "metadata": {},
   "source": [
    "**Notice the difference in speed!**  <br> Be careful about coding long calulcations in Python!"
   ]
  },
  {
   "cell_type": "markdown",
   "metadata": {},
   "source": [
    "Another speedup option\n",
    "----\n",
    "\n",
    "Here we will test the numba jit compiler"
   ]
  },
  {
   "cell_type": "code",
   "execution_count": 13,
   "metadata": {},
   "outputs": [],
   "source": [
    "from numba import jit"
   ]
  },
  {
   "cell_type": "code",
   "execution_count": 14,
   "metadata": {},
   "outputs": [],
   "source": [
    "# Python version of a function with a long loop\n",
    "@jit(nopython=True)\n",
    "def longcalc_nb(ncalcs=1000*1000):\n",
    "    val=0.0\n",
    "    for i in range(1,ncalcs+1):\n",
    "        val += 1.0/i * (2.0*(i%2)-1)\n",
    "    return val"
   ]
  },
  {
   "cell_type": "code",
   "execution_count": 15,
   "metadata": {},
   "outputs": [
    {
     "name": "stdout",
     "output_type": "stream",
     "text": [
      "time for running the python function once with numba jit\n",
      "118 ms ± 0 ns per loop (mean ± std. dev. of 1 run, 1 loop each)\n"
     ]
    }
   ],
   "source": [
    "print(\"time for running the python function once with numba jit\")\n",
    "%timeit -r 1 -n 1 longcalc_nb()"
   ]
  },
  {
   "cell_type": "markdown",
   "metadata": {},
   "source": [
    "That wasn't so great, let's try again:"
   ]
  },
  {
   "cell_type": "code",
   "execution_count": 21,
   "metadata": {},
   "outputs": [
    {
     "name": "stdout",
     "output_type": "stream",
     "text": [
      "time for running the python function once with numba jit\n",
      "1.71 ms ± 0 ns per loop (mean ± std. dev. of 1 run, 1 loop each)\n"
     ]
    }
   ],
   "source": [
    "print(\"time for running the python function once with numba jit\")\n",
    "%timeit -r 1 -n 1 longcalc_nb()"
   ]
  },
  {
   "cell_type": "code",
   "execution_count": null,
   "metadata": {},
   "outputs": [],
   "source": [
    "Recall jit = just in time!"
   ]
  }
 ],
 "metadata": {
  "kernelspec": {
   "display_name": "Python 3",
   "language": "python",
   "name": "python3"
  },
  "language_info": {
   "codemirror_mode": {
    "name": "ipython",
    "version": 3
   },
   "file_extension": ".py",
   "mimetype": "text/x-python",
   "name": "python",
   "nbconvert_exporter": "python",
   "pygments_lexer": "ipython3",
   "version": "3.8.5"
  }
 },
 "nbformat": 4,
 "nbformat_minor": 4
}
